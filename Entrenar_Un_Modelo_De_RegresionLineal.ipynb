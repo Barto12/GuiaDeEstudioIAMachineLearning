{
  "nbformat": 4,
  "nbformat_minor": 0,
  "metadata": {
    "colab": {
      "provenance": []
    },
    "kernelspec": {
      "name": "python3",
      "display_name": "Python 3"
    },
    "language_info": {
      "name": "python"
    }
  },
  "cells": [
    {
      "cell_type": "code",
      "execution_count": null,
      "metadata": {
        "colab": {
          "base_uri": "https://localhost:8080/"
        },
        "id": "Vo-txNmTtVJ1",
        "outputId": "02f917a8-b464-4eff-9a9e-cc04cdadd0a0"
      },
      "outputs": [
        {
          "output_type": "stream",
          "name": "stdout",
          "text": [
            "MSE (error cuadrático medio) de regresión: 0.5960765879745186\n",
            "Precisión del clasificador KNN: 1.0\n"
          ]
        }
      ],
      "source": [
        "import pandas as pd\n",
        "import seaborn as sns\n",
        "from sklearn.model_selection import train_test_split\n",
        "from sklearn.linear_model import LinearRegression\n",
        "from sklearn.neighbors import KNeighborsClassifier\n",
        "from sklearn.preprocessing import LabelEncoder\n",
        "from sklearn.metrics import mean_squared_error, accuracy_score\n",
        "\n",
        "# Cargar dataset\n",
        "df = sns.load_dataset('iris')\n",
        "\n",
        "# ----------------------\n",
        "# PARTE 1: Regresión Lineal\n",
        "# ----------------------\n",
        "\n",
        "# Usamos una sola feature y como target una variable continua\n",
        "X_reg = df[['sepal_length']]\n",
        "y_reg = df['petal_length']\n",
        "\n",
        "# Separar en entrenamiento y prueba\n",
        "X_train, X_test, y_train, y_test = train_test_split(X_reg, y_reg, test_size=0.2, random_state=42)\n",
        "\n",
        "# Crear modelo y entrenar\n",
        "reg_model = LinearRegression()\n",
        "reg_model.fit(X_train, y_train)\n",
        "\n",
        "# Predecir y evaluar\n",
        "y_pred = reg_model.predict(X_test)\n",
        "print(\"MSE (error cuadrático medio) de regresión:\", mean_squared_error(y_test, y_pred))\n",
        "\n",
        "# ----------------------\n",
        "# PARTE 2: Clasificación KNN\n",
        "# ----------------------\n",
        "\n",
        "# Convertir las etiquetas (species) a números\n",
        "le = LabelEncoder()\n",
        "df['species_encoded'] = le.fit_transform(df['species'])\n",
        "\n",
        "# Variables predictoras\n",
        "X_clf = df[['sepal_length', 'sepal_width', 'petal_length', 'petal_width']]\n",
        "y_clf = df['species_encoded']\n",
        "\n",
        "# Separar en entrenamiento y prueba\n",
        "X_train_clf, X_test_clf, y_train_clf, y_test_clf = train_test_split(X_clf, y_clf, test_size=0.2, random_state=42)\n",
        "\n",
        "# Crear y entrenar modelo KNN\n",
        "knn = KNeighborsClassifier(n_neighbors=5)\n",
        "knn.fit(X_train_clf, y_train_clf)\n",
        "\n",
        "# Predecir y evaluar\n",
        "y_pred_clf = knn.predict(X_test_clf)\n",
        "print(\"Precisión del clasificador KNN:\", accuracy_score(y_test_clf, y_pred_clf))\n"
      ]
    }
  ]
}